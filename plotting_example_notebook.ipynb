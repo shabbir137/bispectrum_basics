{
 "cells": [
  {
   "cell_type": "code",
   "execution_count": 1,
   "id": "1768fd35-0ca8-4eda-92b3-5d6f8b1c0b3f",
   "metadata": {},
   "outputs": [],
   "source": [
    "import numpy as np\n",
    "import matplotlib.pyplot as plt"
   ]
  },
  {
   "cell_type": "code",
   "execution_count": 2,
   "id": "fd9985d4-8e50-4396-a44b-5b72c17ec73a",
   "metadata": {},
   "outputs": [],
   "source": [
    "def theory_covmat2err(covMat, nbins, sq_i, iso_i):    \n",
    "    eq_bispec_err = np.sqrt([covMat[i,i,i] for i in range(nbins) ] )\n",
    "    sq_bispec_err = np.sqrt([covMat[i,i,sq_i] for i in range(nbins) ] )\n",
    "    iso_bispec_err = np.sqrt([covMat[iso_i,iso_i, i] for i in range(nbins) ] )\n",
    "    \n",
    "    theory_bispec_err = [eq_bispec_err, sq_bispec_err, iso_bispec_err]\n",
    "    \n",
    "    return theory_bispec_err"
   ]
  },
  {
   "cell_type": "code",
   "execution_count": 3,
   "id": "34d151a2-ddc4-4cde-a1a5-0268af95394c",
   "metadata": {},
   "outputs": [],
   "source": [
    "def bispec_summary(bispec_dict, nbins, sq_i, iso_i, Nrlzn):\n",
    "    eq_bispec = np.ndarray(shape = (Nrlzn, nbins))\n",
    "    sq_bispec = np.ndarray(shape = (Nrlzn, nbins))\n",
    "    iso_bispec = np.ndarray(shape = (Nrlzn, nbins))\n",
    "    \n",
    "    for j in np.arange(0, Nrlzn, 1):\n",
    "        eq_bispec[j, :] = np.real(np.asarray([bispec_dict[j][i,i,i] for i in range(nbins)]))\n",
    "        sq_bispec[j, :] = np.real(np.asarray([bispec_dict[j][i,i,sq_i] for i in range(nbins)]))\n",
    "        iso_bispec[j, :] = np.real(np.asarray([bispec_dict[j][iso_i,iso_i, i] for i in range(nbins)]))    \n",
    "\n",
    "    return eq_bispec, sq_bispec, iso_bispec"
   ]
  },
  {
   "cell_type": "code",
   "execution_count": 4,
   "id": "57f0bba5-01cc-4b46-804e-79758fe4a399",
   "metadata": {},
   "outputs": [],
   "source": [
    "def abs_bispec_summary(bispec_dict, nbins, sq_i, iso_i, Nrlzn):\n",
    "    eq_bispec = np.ndarray(shape = (Nrlzn, nbins))\n",
    "    sq_bispec = np.ndarray(shape = (Nrlzn, nbins))\n",
    "    iso_bispec = np.ndarray(shape = (Nrlzn, nbins))\n",
    "    \n",
    "    for j in np.arange(0, Nrlzn, 1):\n",
    "        eq_bispec[j, :] = np.abs(np.asarray([bispec_dict[j][i,i,i] for i in range(nbins)]))\n",
    "        sq_bispec[j, :] = np.abs(np.asarray([bispec_dict[j][i,i,sq_i] for i in range(nbins)]))\n",
    "        iso_bispec[j, :] = np.abs(np.asarray([bispec_dict[j][iso_i,iso_i, i] for i in range(nbins)]))    \n",
    "\n",
    "    return eq_bispec, sq_bispec, iso_bispec"
   ]
  },
  {
   "cell_type": "code",
   "execution_count": 5,
   "id": "cd539ef0-fed3-46cd-9459-6943dee542b3",
   "metadata": {},
   "outputs": [],
   "source": [
    "def bispec_mean(bispec_dict, nbins, sq_i, iso_i, Nrlzn):\n",
    "    eq_bispec = np.ndarray(shape = (Nrlzn, nbins))\n",
    "    sq_bispec = np.ndarray(shape = (Nrlzn, nbins))\n",
    "    iso_bispec = np.ndarray(shape = (Nrlzn, nbins))\n",
    "    \n",
    "    for j in np.arange(0, Nrlzn, 1):\n",
    "        eq_bispec[j, :] = np.real(np.asarray([bispec_dict[j][i,i,i] for i in range(nbins)]))\n",
    "        sq_bispec[j, :] = np.real(np.asarray([bispec_dict[j][i,i,sq_i] for i in range(nbins)]))\n",
    "        iso_bispec[j, :] = np.real(np.asarray([bispec_dict[j][iso_i,iso_i, i] for i in range(nbins)]))    \n",
    "\n",
    "    mean_eq = np.real(np.mean(eq_bispec, axis=0))\n",
    "    mean_sq = np.real(np.mean(sq_bispec, axis=0))\n",
    "    mean_iso = np.real(np.mean(iso_bispec, axis=0))\n",
    "    \n",
    "    sim_bispec_mean = [mean_eq, mean_sq, mean_iso]\n",
    "    \n",
    "    return sim_bispec_mean"
   ]
  },
  {
   "cell_type": "code",
   "execution_count": 6,
   "id": "9a751bb1-a817-4d15-a6d5-2af26e38f442",
   "metadata": {},
   "outputs": [],
   "source": [
    "def bispec_std(bispec_dict, nbins, sq_i, iso_i, Nrlzn):\n",
    "    eq_bispec = np.ndarray(shape = (Nrlzn, nbins))\n",
    "    sq_bispec = np.ndarray(shape = (Nrlzn, nbins))\n",
    "    iso_bispec = np.ndarray(shape = (Nrlzn, nbins))\n",
    "    \n",
    "    for j in np.arange(0, Nrlzn, 1):\n",
    "        eq_bispec[j, :] = np.real(np.asarray([bispec_dict[j][i,i,i] for i in range(nbins)]))\n",
    "        sq_bispec[j, :] = np.real(np.asarray([bispec_dict[j][i,i,sq_i] for i in range(nbins)]))\n",
    "        iso_bispec[j, :] = np.real(np.asarray([bispec_dict[j][iso_i,iso_i, i] for i in range(nbins)]))    \n",
    "\n",
    "    mean_eq = np.real(np.std(eq_bispec, axis=0))\n",
    "    mean_sq = np.real(np.std(sq_bispec, axis=0))\n",
    "    mean_iso = np.real(np.std(iso_bispec, axis=0))\n",
    "\n",
    "    sim_bispec_mean = [mean_eq, mean_sq, mean_iso]\n",
    "    \n",
    "    return sim_bispec_mean"
   ]
  },
  {
   "cell_type": "code",
   "execution_count": 7,
   "id": "83c30dbd-32f2-4740-b21c-eeacefbe11bc",
   "metadata": {},
   "outputs": [],
   "source": [
    "def abs_bispec_mean(bispec_dict, nbins, sq_i, iso_i, Nrlzn):\n",
    "    eq_bispec = np.ndarray(shape = (Nrlzn, nbins))\n",
    "    sq_bispec = np.ndarray(shape = (Nrlzn, nbins))\n",
    "    iso_bispec = np.ndarray(shape = (Nrlzn, nbins))\n",
    "    \n",
    "    for j in np.arange(0, Nrlzn, 1):\n",
    "        eq_bispec[j, :] = np.abs(np.asarray([bispec_dict[j][i,i,i] for i in range(nbins)]))\n",
    "        sq_bispec[j, :] = np.abs(np.asarray([bispec_dict[j][i,i,sq_i] for i in range(nbins)]))\n",
    "        iso_bispec[j, :] = np.abs(np.asarray([bispec_dict[j][iso_i,iso_i, i] for i in range(nbins)]))    \n",
    "\n",
    "    mean_eq = np.real(np.mean(eq_bispec, axis=0))\n",
    "    mean_sq = np.real(np.mean(sq_bispec, axis=0))\n",
    "    mean_iso = np.real(np.mean(iso_bispec, axis=0))\n",
    "    \n",
    "    sim_bispec_mean = [mean_eq, mean_sq, mean_iso]\n",
    "    \n",
    "    return sim_bispec_mean"
   ]
  },
  {
   "cell_type": "code",
   "execution_count": 8,
   "id": "859da04c-4a29-45ce-ac42-7a0b992453c6",
   "metadata": {},
   "outputs": [],
   "source": [
    "path1 = './example_output/'"
   ]
  },
  {
   "cell_type": "code",
   "execution_count": 9,
   "id": "2f659925-cdcc-45cb-ad82-a55f79f3d72e",
   "metadata": {},
   "outputs": [],
   "source": [
    "elmin = 2\n",
    "elmax = 2002\n",
    "delta_l = 200"
   ]
  },
  {
   "cell_type": "code",
   "execution_count": 10,
   "id": "74f7e195-62a1-4644-9aa4-fb8c286d7c83",
   "metadata": {},
   "outputs": [],
   "source": [
    "binedges = np.arange(elmin,elmax + 1,delta_l)"
   ]
  },
  {
   "cell_type": "code",
   "execution_count": 11,
   "id": "5eff6b32-f8a2-4fdc-ba80-668f8e437539",
   "metadata": {},
   "outputs": [],
   "source": [
    "midpoints = np.arange(elmin + delta_l/2,elmax + 1,delta_l)"
   ]
  },
  {
   "cell_type": "code",
   "execution_count": 12,
   "id": "e5964988-6c8d-404e-a61a-62d1615b1031",
   "metadata": {},
   "outputs": [
    {
     "data": {
      "text/plain": [
       "array([ 102.,  302.,  502.,  702.,  902., 1102., 1302., 1502., 1702.,\n",
       "       1902.])"
      ]
     },
     "execution_count": 12,
     "metadata": {},
     "output_type": "execute_result"
    }
   ],
   "source": [
    "midpoints"
   ]
  },
  {
   "cell_type": "code",
   "execution_count": 13,
   "id": "8d736a0c-43c3-41ac-a5fe-db16ec61babf",
   "metadata": {},
   "outputs": [],
   "source": [
    "nbins = len(midpoints)"
   ]
  },
  {
   "cell_type": "code",
   "execution_count": 14,
   "id": "15b0c7ee-027a-45d9-ab30-ab564401f320",
   "metadata": {},
   "outputs": [],
   "source": [
    "Nrlzn = 4"
   ]
  },
  {
   "cell_type": "code",
   "execution_count": 15,
   "id": "cf279904-3e5f-4dd5-a7ee-6bd4a01b3d9b",
   "metadata": {},
   "outputs": [
    {
     "data": {
      "text/plain": [
       "(1, 1, 1, 1, 1, 1, 10, 10, 10)"
      ]
     },
     "execution_count": 15,
     "metadata": {},
     "output_type": "execute_result"
    }
   ],
   "source": [
    "test_cov_ar = np.load(file = path1 + 'v2_inv_ell_map_covMat_1.npy')\n",
    "test_cov_ar.shape"
   ]
  },
  {
   "cell_type": "code",
   "execution_count": 16,
   "id": "26003821-c767-455e-97cb-f9bc4cfd20c3",
   "metadata": {},
   "outputs": [],
   "source": [
    "#the way this output is written as i1 > j1 > k1; i2 > j2 > k2\n",
    "i1 = 0 \n",
    "j1 = 0\n",
    "k1 = 0\n",
    "i2 = 0\n",
    "j2 = 0\n",
    "k2 = 0\n",
    "covMat_1 = np.load(file = path1 + 'v2_inv_ell_map_covMat_1.npy')[i1, j1, k1, i2, j2, k2, :, :, :]"
   ]
  },
  {
   "cell_type": "code",
   "execution_count": 17,
   "id": "1de3ad6c-d52d-4788-9f41-647c0995bcb3",
   "metadata": {},
   "outputs": [],
   "source": [
    "#the way this output is written as i1 > j1 > k1\n",
    "i1 = 0\n",
    "j1 = 0\n",
    "k1 = 0\n",
    "bispec_dict_1 = {}\n",
    "for i in np.arange(0, Nrlzn, 1):\n",
    "    bispec_dict_1[i] = np.load(file = path1 + 'v2_inv_ell_map_bispec_%d.npy'%(i+1))[i1, j1, k1, :, :, :]"
   ]
  },
  {
   "cell_type": "code",
   "execution_count": 18,
   "id": "0351e81e-994d-4fea-93a5-f6b1a9be21a6",
   "metadata": {},
   "outputs": [],
   "source": [
    "nbins = 10"
   ]
  },
  {
   "cell_type": "markdown",
   "id": "88bfe9c0-2721-4d8b-81a8-0a71dba2c5b8",
   "metadata": {},
   "source": [
    "Determine the shape to be plotted"
   ]
  },
  {
   "cell_type": "code",
   "execution_count": 19,
   "id": "6d9b8b05-6dfe-41f8-a710-10be6707cf34",
   "metadata": {},
   "outputs": [],
   "source": [
    "sq_i = 0\n",
    "iso_i = -1\n",
    "sim_bispec_mean = bispec_mean(bispec_dict_1, nbins, sq_i, iso_i, Nrlzn)\n",
    "sim_bispec_std = bispec_std(bispec_dict_1, nbins, sq_i, iso_i, Nrlzn)"
   ]
  },
  {
   "cell_type": "code",
   "execution_count": 20,
   "id": "2536a5a0-1511-4031-ac32-06867bef3a8d",
   "metadata": {},
   "outputs": [],
   "source": [
    "theory_bispec_err_1 = theory_covmat2err(covMat_1, nbins, sq_i, iso_i)"
   ]
  },
  {
   "cell_type": "code",
   "execution_count": 22,
   "id": "995f7ba6-b61d-40a0-8098-b04cf2a47d86",
   "metadata": {},
   "outputs": [],
   "source": [
    "#bispec_label = ['eq', 'sq', 'iso']\n",
    "bispec_label = [r'$\\ell_1 = \\ell_2 = \\ell_3 = \\ell$', \n",
    "                r'$\\ell_1 = \\ell_2 = \\ell, \\ell_3 = %d$'%(midpoints[sq_i]), \n",
    "                r'$\\ell_1 = \\ell_2 = %d, \\ell_3 = \\ell$'%(midpoints[iso_i])]"
   ]
  },
  {
   "cell_type": "code",
   "execution_count": 25,
   "id": "77995466-e6c5-40c2-9c41-0a09079a92cc",
   "metadata": {
    "tags": []
   },
   "outputs": [],
   "source": [
    "#computed using SHO_bispec_amplitude.ipynb\n",
    "bispectrum_amp = 0.0006947891977802205"
   ]
  },
  {
   "cell_type": "code",
   "execution_count": 26,
   "id": "5004a86c-7cdf-4945-84f1-139d474454be",
   "metadata": {},
   "outputs": [
    {
     "data": {
      "image/png": "[encoded data removed]",
      "text/plain": [
       "<Figure size 864x360 with 3 Axes>"
      ]
     },
     "metadata": {
      "needs_background": "light"
     },
     "output_type": "display_data"
    }
   ],
   "source": [
    "plt.figure(figsize= (12, 5) )\n",
    "j = 1\n",
    "for i in [0, 1, 2]:\n",
    "    plt.subplot(1, 3, j)\n",
    "    j += 1\n",
    "    if i == 0:\n",
    "        yerr = theory_bispec_err_1[i]\n",
    "        x_axis = midpoints\n",
    "        y_axis = sim_bispec_mean[i]\n",
    "        plt.scatter(x_axis, y_axis)\n",
    "        plt.errorbar(x_axis, y_axis, yerr=yerr, lw = 3.0, \n",
    "                    label = r'$B_{\\ell_1, \\ell_2, \\ell_2 }$')\n",
    "    \n",
    "        plt.plot(x_axis, bispectrum_amp/np.sqrt((2*x_axis + 1)**3), lw = 2.0)\n",
    "    elif i == 1:\n",
    "        yerr = theory_bispec_err_1[i]\n",
    "        x_axis = midpoints\n",
    "        y_axis = sim_bispec_mean[i]\n",
    "        plt.scatter(x_axis, y_axis)\n",
    "        plt.errorbar(x_axis, y_axis, yerr=yerr, lw = 3.0, \n",
    "                    label = r'$B_{\\ell_1, \\ell_2, \\ell_2 }$')\n",
    "    \n",
    "        plt.plot(x_axis, bispectrum_amp/np.sqrt((2*102.0 + 1)*(2*x_axis + 1)**2), lw = 2.0)\n",
    "    else:\n",
    "        yerr = theory_bispec_err_1[i]\n",
    "        x_axis = midpoints\n",
    "        y_axis = sim_bispec_mean[i]\n",
    "        plt.scatter(x_axis, y_axis)\n",
    "        plt.errorbar(x_axis, y_axis, yerr=yerr, lw = 3.0, \n",
    "                    label = r'$B_{\\ell_1, \\ell_2, \\ell_2 }$')\n",
    "    \n",
    "        plt.plot(x_axis, bispectrum_amp/np.sqrt((2*1902.0 + 1)**2*(2*x_axis + 1)), lw = 2.0)        \n",
    "    \n",
    "    plt.yscale('log')\n",
    "    plt.xlabel(r'$\\ell$', fontsize = 20)\n",
    "    plt.xticks(fontsize = 15)\n",
    "    if i == 0:\n",
    "        plt.ylabel(r'$b_{\\ell_1, \\ell_2, \\ell_3}$', fontsize = 20)\n",
    "    else:\n",
    "        pass\n",
    "    plt.title('%s'%(bispec_label[i]), fontsize = 15)\n",
    "    plt.grid(which = 'both')\n",
    "    plt.tick_params(labelsize = 15)\n",
    "plt.tight_layout()    "
   ]
  }
 ],
 "metadata": {
  "kernelspec": {
   "display_name": "test_env-jupyter",
   "language": "python",
   "name": "test_env-jupyter"
  },
  "language_info": {
   "codemirror_mode": {
    "name": "ipython",
    "version": 3
   },
   "file_extension": ".py",
   "mimetype": "text/x-python",
   "name": "python",
   "nbconvert_exporter": "python",
   "pygments_lexer": "ipython3",
   "version": "3.9.7"
  }
 },
 "nbformat": 4,
 "nbformat_minor": 5
}
