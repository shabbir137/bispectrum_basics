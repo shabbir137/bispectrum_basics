{
 "cells": [
  {
   "cell_type": "code",
   "execution_count": 4,
   "id": "93cad14a-6b82-4d16-b796-cdf6b65ec8a2",
   "metadata": {
    "tags": []
   },
   "outputs": [],
   "source": [
    "import numpy as np\n",
    "import healpy as hp\n",
    "import matplotlib.pyplot as plt\n",
    "from scipy import stats"
   ]
  },
  {
   "cell_type": "code",
   "execution_count": 5,
   "id": "a6ad46b4-5685-47e3-b111-ad16b2f58ef0",
   "metadata": {
    "tags": []
   },
   "outputs": [],
   "source": [
    "#of the original pdf\n",
    "def var_fs(sigma_0, alpha3):\n",
    "    return sigma_0**2*(1 + 6*alpha3**2)\n",
    "\n",
    "def skew_fs(sigma_0, alpha3):\n",
    "    factor1 = (2.0*sigma_0**2)**(3/2.0)\n",
    "    factor2 = np.sqrt(3*alpha3**2*(1 - alpha3**2))\n",
    "    return factor1*factor2"
   ]
  },
  {
   "cell_type": "code",
   "execution_count": 6,
   "id": "498fb2ee-23b7-455c-a3fd-1c749227f021",
   "metadata": {
    "tags": []
   },
   "outputs": [],
   "source": [
    "def SHO_bispec_amp(variance_fs, skewness_fs, omega_pix):\n",
    "    bispectrum_amp = (skewness_fs/omega_pix)*(omega_pix/variance_fs)**(3./2)\n",
    "    return bispectrum_amp"
   ]
  },
  {
   "cell_type": "code",
   "execution_count": 7,
   "id": "ed1d0c86-dccb-4e69-b718-28941cf7d671",
   "metadata": {
    "tags": []
   },
   "outputs": [],
   "source": [
    "path_sims = '/pscratch/sd/s/shabbir/toy_model_bispectrum/maps/'"
   ]
  },
  {
   "cell_type": "code",
   "execution_count": 12,
   "id": "ad1138cf-1ee7-43ec-90e0-8e450a7fd31f",
   "metadata": {
    "tags": []
   },
   "outputs": [],
   "source": [
    "nside = 1024\n",
    "#pixel area\n",
    "omega_pix = hp.nside2pixarea(nside = nside, degrees=False) #square radians"
   ]
  },
  {
   "cell_type": "code",
   "execution_count": 8,
   "id": "caba4c74-c0ff-489f-9117-aec116eba7e9",
   "metadata": {
    "tags": []
   },
   "outputs": [],
   "source": [
    "Nrlzn = 4\n",
    "mean = np.ndarray(shape = (Nrlzn))\n",
    "std_dev = np.ndarray(shape = (Nrlzn))\n",
    "skewness = np.ndarray(shape = (Nrlzn))"
   ]
  },
  {
   "cell_type": "code",
   "execution_count": 9,
   "id": "5afd7ef2-ba59-4cc7-91ba-05f386bfbaae",
   "metadata": {
    "tags": []
   },
   "outputs": [
    {
     "name": "stdout",
     "output_type": "stream",
     "text": [
      "1\n",
      "2\n",
      "3\n",
      "4\n"
     ]
    }
   ],
   "source": [
    "for i in np.arange(0, Nrlzn, 1):\n",
    "    seed = i+1\n",
    "    print(seed)\n",
    "    in_map_1 = hp.read_map(path_sims + 'map_of_inv_ell_Cls_lmax3071_nside1024_%d.fits'%(seed), field = (0,))\n",
    "    mean[i] = np.mean(in_map_1)\n",
    "    std_dev[i] = np.std(in_map_1)\n",
    "    skewness[i] = stats.skew(in_map_1)"
   ]
  },
  {
   "cell_type": "code",
   "execution_count": 10,
   "id": "07518144-3c37-4411-8834-3367ca2cad3c",
   "metadata": {
    "tags": []
   },
   "outputs": [
    {
     "data": {
      "text/plain": [
       "1.24"
      ]
     },
     "execution_count": 10,
     "metadata": {},
     "output_type": "execute_result"
    }
   ],
   "source": [
    "variance_fs = var_fs(sigma_0=1.0, alpha3 = 0.2)\n",
    "variance_fs"
   ]
  },
  {
   "cell_type": "code",
   "execution_count": 11,
   "id": "87ee5681-2890-463e-bad5-de9cbf820489",
   "metadata": {
    "tags": []
   },
   "outputs": [
    {
     "data": {
      "text/plain": [
       "0.9600000000000001"
      ]
     },
     "execution_count": 11,
     "metadata": {},
     "output_type": "execute_result"
    }
   ],
   "source": [
    "skewness_fs = skew_fs(sigma_0=1.0, alpha3 = 0.2)\n",
    "skewness_fs"
   ]
  },
  {
   "cell_type": "code",
   "execution_count": 13,
   "id": "1be12289-8314-474f-b036-6ca3103322f2",
   "metadata": {
    "tags": []
   },
   "outputs": [
    {
     "data": {
      "text/plain": [
       "0.0006947891977802205"
      ]
     },
     "execution_count": 13,
     "metadata": {},
     "output_type": "execute_result"
    }
   ],
   "source": [
    "SHO_bispec_amp(variance_fs, skewness_fs, omega_pix)"
   ]
  },
  {
   "cell_type": "code",
   "execution_count": null,
   "id": "8f2db86c-135a-46fc-8655-0bc4b45a4307",
   "metadata": {},
   "outputs": [],
   "source": []
  }
 ],
 "metadata": {
  "kernelspec": {
   "display_name": "test_env-jupyter",
   "language": "python",
   "name": "test_env-jupyter"
  },
  "language_info": {
   "codemirror_mode": {
    "name": "ipython",
    "version": 3
   },
   "file_extension": ".py",
   "mimetype": "text/x-python",
   "name": "python",
   "nbconvert_exporter": "python",
   "pygments_lexer": "ipython3",
   "version": "3.9.7"
  }
 },
 "nbformat": 4,
 "nbformat_minor": 5
}
